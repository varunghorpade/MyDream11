{
 "cells": [
  {
   "cell_type": "code",
   "execution_count": 10,
   "metadata": {},
   "outputs": [],
   "source": [
    "import pandas as pd\n",
    "import seaborn as sns\n",
    "import matplotlib.pyplot as plt\n",
    "import numpy as np"
   ]
  },
  {
   "cell_type": "code",
   "execution_count": 11,
   "metadata": {},
   "outputs": [
    {
     "data": {
      "text/html": [
       "<div>\n",
       "<style scoped>\n",
       "    .dataframe tbody tr th:only-of-type {\n",
       "        vertical-align: middle;\n",
       "    }\n",
       "\n",
       "    .dataframe tbody tr th {\n",
       "        vertical-align: top;\n",
       "    }\n",
       "\n",
       "    .dataframe thead th {\n",
       "        text-align: right;\n",
       "    }\n",
       "</style>\n",
       "<table border=\"1\" class=\"dataframe\">\n",
       "  <thead>\n",
       "    <tr style=\"text-align: right;\">\n",
       "      <th></th>\n",
       "      <th>S. no.</th>\n",
       "      <th>Player</th>\n",
       "      <th>Country</th>\n",
       "      <th>Career</th>\n",
       "      <th>InnsAsOpener</th>\n",
       "      <th>NOAsOpener</th>\n",
       "      <th>RunsAsOpener</th>\n",
       "      <th>AvgAsOpener</th>\n",
       "    </tr>\n",
       "  </thead>\n",
       "  <tbody>\n",
       "    <tr>\n",
       "      <th>0</th>\n",
       "      <td>1</td>\n",
       "      <td>Tendulkar, S R</td>\n",
       "      <td>India</td>\n",
       "      <td>1989-2012</td>\n",
       "      <td>340</td>\n",
       "      <td>23</td>\n",
       "      <td>15310</td>\n",
       "      <td>48.30</td>\n",
       "    </tr>\n",
       "    <tr>\n",
       "      <th>1</th>\n",
       "      <td>2</td>\n",
       "      <td>Jayasuriya, S T</td>\n",
       "      <td>Sri Lanka</td>\n",
       "      <td>1989-2011</td>\n",
       "      <td>383</td>\n",
       "      <td>15</td>\n",
       "      <td>12740</td>\n",
       "      <td>34.62</td>\n",
       "    </tr>\n",
       "    <tr>\n",
       "      <th>2</th>\n",
       "      <td>3</td>\n",
       "      <td>Gayle, C H*</td>\n",
       "      <td>West Indies</td>\n",
       "      <td>1999-present</td>\n",
       "      <td>259</td>\n",
       "      <td>16</td>\n",
       "      <td>9426</td>\n",
       "      <td>38.79</td>\n",
       "    </tr>\n",
       "    <tr>\n",
       "      <th>3</th>\n",
       "      <td>4</td>\n",
       "      <td>Gilchrist, A C</td>\n",
       "      <td>Australia</td>\n",
       "      <td>1996-2008</td>\n",
       "      <td>259</td>\n",
       "      <td>7</td>\n",
       "      <td>9200</td>\n",
       "      <td>36.51</td>\n",
       "    </tr>\n",
       "    <tr>\n",
       "      <th>4</th>\n",
       "      <td>5</td>\n",
       "      <td>Ganguly, S C</td>\n",
       "      <td>India</td>\n",
       "      <td>1992-2007</td>\n",
       "      <td>236</td>\n",
       "      <td>16</td>\n",
       "      <td>9146</td>\n",
       "      <td>41.57</td>\n",
       "    </tr>\n",
       "  </tbody>\n",
       "</table>\n",
       "</div>"
      ],
      "text/plain": [
       "   S. no.           Player      Country        Career  InnsAsOpener  \\\n",
       "0       1   Tendulkar, S R        India     1989-2012           340   \n",
       "1       2  Jayasuriya, S T    Sri Lanka     1989-2011           383   \n",
       "2       3      Gayle, C H*  West Indies  1999-present           259   \n",
       "3       4   Gilchrist, A C    Australia     1996-2008           259   \n",
       "4       5     Ganguly, S C        India     1992-2007           236   \n",
       "\n",
       "   NOAsOpener  RunsAsOpener  AvgAsOpener  \n",
       "0          23         15310        48.30  \n",
       "1          15         12740        34.62  \n",
       "2          16          9426        38.79  \n",
       "3           7          9200        36.51  \n",
       "4          16          9146        41.57  "
      ]
     },
     "execution_count": 11,
     "metadata": {},
     "output_type": "execute_result"
    }
   ],
   "source": [
    "Opener = pd.read_csv(\"/Applications/Dream11/Openers.csv\")\n",
    "Opener.head(5)"
   ]
  },
  {
   "cell_type": "code",
   "execution_count": 12,
   "metadata": {},
   "outputs": [
    {
     "data": {
      "text/plain": [
       "<matplotlib.axes._subplots.AxesSubplot at 0x1a1c3f59d0>"
      ]
     },
     "execution_count": 12,
     "metadata": {},
     "output_type": "execute_result"
    },
    {
     "data": {
      "image/png": "[encoded data removed]",
      "text/plain": [
       "<Figure size 432x288 with 1 Axes>"
      ]
     },
     "metadata": {
      "needs_background": "light"
     },
     "output_type": "display_data"
    }
   ],
   "source": [
    "Opener['Country'].value_counts().plot(kind=\"bar\")"
   ]
  },
  {
   "cell_type": "markdown",
   "metadata": {},
   "source": [
    "It can be seen that there are same number of Openers from India and Australia (6 each)"
   ]
  },
  {
   "cell_type": "markdown",
   "metadata": {},
   "source": [
    "Now, in order to get the best openers, i will pass the weights to the parameters which in my opinion are decisive."
   ]
  },
  {
   "cell_type": "code",
   "execution_count": 20,
   "metadata": {},
   "outputs": [],
   "source": [
    "a = 1\n",
    "b = 0.5\n",
    "c = 2\n",
    "\n",
    "Opener['Openers'] = (a*Opener.RunsAsOpener + b*Opener.NOAsOpener + c*Opener.AvgAsOpener)/(Opener.InnsAsOpener)"
   ]
  },
  {
   "cell_type": "code",
   "execution_count": 21,
   "metadata": {},
   "outputs": [
    {
     "data": {
      "text/plain": [
       "Text(0, 0.5, 'Openers Score')"
      ]
     },
     "execution_count": 21,
     "metadata": {},
     "output_type": "execute_result"
    },
    {
     "data": {
      "image/png": "[encoded data removed]",
      "text/plain": [
       "<Figure size 720x432 with 1 Axes>"
      ]
     },
     "metadata": {
      "needs_background": "light"
     },
     "output_type": "display_data"
    }
   ],
   "source": [
    "plt.figure(figsize=(10,6))\n",
    "\n",
    "#generating sequential data and plot\n",
    "sd = Opener.sort_values('Openers', ascending= False)[:5]\n",
    "x1 = np.array(list(sd['Player']))\n",
    "y1 = np.array(list(sd['Openers']))\n",
    "sns.barplot(x1,y1, palette= \"colorblind\")\n",
    "plt.ylabel('Openers Score')"
   ]
  },
  {
   "cell_type": "markdown",
   "metadata": {},
   "source": [
    "This concludes that as per the scores calculated, Rohit Sharma and Hashim Amla will be my two opening bastmen."
   ]
  },
  {
   "cell_type": "code",
   "execution_count": 30,
   "metadata": {},
   "outputs": [
    {
     "data": {
      "text/html": [
       "<div>\n",
       "<style scoped>\n",
       "    .dataframe tbody tr th:only-of-type {\n",
       "        vertical-align: middle;\n",
       "    }\n",
       "\n",
       "    .dataframe tbody tr th {\n",
       "        vertical-align: top;\n",
       "    }\n",
       "\n",
       "    .dataframe thead th {\n",
       "        text-align: right;\n",
       "    }\n",
       "</style>\n",
       "<table border=\"1\" class=\"dataframe\">\n",
       "  <thead>\n",
       "    <tr style=\"text-align: right;\">\n",
       "      <th></th>\n",
       "      <th>S. No.</th>\n",
       "      <th>Player</th>\n",
       "      <th>Country</th>\n",
       "      <th>Mat</th>\n",
       "      <th>Inns</th>\n",
       "      <th>NO</th>\n",
       "      <th>Runs</th>\n",
       "      <th>Highest</th>\n",
       "      <th>Hundreds</th>\n",
       "      <th>Fifties</th>\n",
       "      <th>Avg</th>\n",
       "      <th>StrikeRate</th>\n",
       "    </tr>\n",
       "  </thead>\n",
       "  <tbody>\n",
       "    <tr>\n",
       "      <th>0</th>\n",
       "      <td>1</td>\n",
       "      <td>Tendulkar, S R</td>\n",
       "      <td>India</td>\n",
       "      <td>463</td>\n",
       "      <td>452</td>\n",
       "      <td>41</td>\n",
       "      <td>18426</td>\n",
       "      <td>200*</td>\n",
       "      <td>49</td>\n",
       "      <td>96</td>\n",
       "      <td>44.83</td>\n",
       "      <td>86.24</td>\n",
       "    </tr>\n",
       "    <tr>\n",
       "      <th>1</th>\n",
       "      <td>2</td>\n",
       "      <td>Sangakkara, K C</td>\n",
       "      <td>Sri Lanka</td>\n",
       "      <td>404</td>\n",
       "      <td>380</td>\n",
       "      <td>41</td>\n",
       "      <td>14234</td>\n",
       "      <td>169</td>\n",
       "      <td>25</td>\n",
       "      <td>93</td>\n",
       "      <td>41.99</td>\n",
       "      <td>78.86</td>\n",
       "    </tr>\n",
       "    <tr>\n",
       "      <th>2</th>\n",
       "      <td>3</td>\n",
       "      <td>Ponting, R T</td>\n",
       "      <td>Australia</td>\n",
       "      <td>375</td>\n",
       "      <td>365</td>\n",
       "      <td>39</td>\n",
       "      <td>13704</td>\n",
       "      <td>164</td>\n",
       "      <td>30</td>\n",
       "      <td>82</td>\n",
       "      <td>42.04</td>\n",
       "      <td>80.39</td>\n",
       "    </tr>\n",
       "    <tr>\n",
       "      <th>3</th>\n",
       "      <td>4</td>\n",
       "      <td>Jayasuriya, S T</td>\n",
       "      <td>Sri Lanka</td>\n",
       "      <td>445</td>\n",
       "      <td>433</td>\n",
       "      <td>18</td>\n",
       "      <td>13430</td>\n",
       "      <td>189</td>\n",
       "      <td>28</td>\n",
       "      <td>68</td>\n",
       "      <td>32.36</td>\n",
       "      <td>91.20</td>\n",
       "    </tr>\n",
       "    <tr>\n",
       "      <th>4</th>\n",
       "      <td>5</td>\n",
       "      <td>Jayawardene, D P M D</td>\n",
       "      <td>Sri Lanka</td>\n",
       "      <td>448</td>\n",
       "      <td>418</td>\n",
       "      <td>39</td>\n",
       "      <td>12650</td>\n",
       "      <td>144</td>\n",
       "      <td>19</td>\n",
       "      <td>77</td>\n",
       "      <td>33.38</td>\n",
       "      <td>78.96</td>\n",
       "    </tr>\n",
       "  </tbody>\n",
       "</table>\n",
       "</div>"
      ],
      "text/plain": [
       "   S. No.                Player    Country  Mat  Inns  NO   Runs Highest  \\\n",
       "0       1        Tendulkar, S R      India  463   452  41  18426    200*   \n",
       "1       2       Sangakkara, K C  Sri Lanka  404   380  41  14234     169   \n",
       "2       3          Ponting, R T  Australia  375   365  39  13704     164   \n",
       "3       4       Jayasuriya, S T  Sri Lanka  445   433  18  13430     189   \n",
       "4       5  Jayawardene, D P M D  Sri Lanka  448   418  39  12650     144   \n",
       "\n",
       "   Hundreds  Fifties    Avg  StrikeRate  \n",
       "0        49       96  44.83       86.24  \n",
       "1        25       93  41.99       78.86  \n",
       "2        30       82  42.04       80.39  \n",
       "3        28       68  32.36       91.20  \n",
       "4        19       77  33.38       78.96  "
      ]
     },
     "execution_count": 30,
     "metadata": {},
     "output_type": "execute_result"
    }
   ],
   "source": [
    "#Batsmen at number 3,4 and 5\n",
    "\n",
    "Bat = pd.read_csv(\"/Applications/Dream11/Batsmen.csv\")\n",
    "Bat.head(5)"
   ]
  },
  {
   "cell_type": "code",
   "execution_count": 31,
   "metadata": {},
   "outputs": [
    {
     "data": {
      "text/html": [
       "<div>\n",
       "<style scoped>\n",
       "    .dataframe tbody tr th:only-of-type {\n",
       "        vertical-align: middle;\n",
       "    }\n",
       "\n",
       "    .dataframe tbody tr th {\n",
       "        vertical-align: top;\n",
       "    }\n",
       "\n",
       "    .dataframe thead th {\n",
       "        text-align: right;\n",
       "    }\n",
       "</style>\n",
       "<table border=\"1\" class=\"dataframe\">\n",
       "  <thead>\n",
       "    <tr style=\"text-align: right;\">\n",
       "      <th></th>\n",
       "      <th>S. No.</th>\n",
       "      <th>Player</th>\n",
       "      <th>Country</th>\n",
       "      <th>Mat</th>\n",
       "      <th>Inns</th>\n",
       "      <th>NO</th>\n",
       "      <th>Runs</th>\n",
       "      <th>Highest</th>\n",
       "      <th>Hundreds</th>\n",
       "      <th>Fifties</th>\n",
       "      <th>Avg</th>\n",
       "      <th>StrikeRate</th>\n",
       "    </tr>\n",
       "  </thead>\n",
       "  <tbody>\n",
       "    <tr>\n",
       "      <th>27</th>\n",
       "      <td>28</td>\n",
       "      <td>Shahid Afridi</td>\n",
       "      <td>Pakistan</td>\n",
       "      <td>398</td>\n",
       "      <td>369</td>\n",
       "      <td>27</td>\n",
       "      <td>8064</td>\n",
       "      <td>124</td>\n",
       "      <td>6</td>\n",
       "      <td>39</td>\n",
       "      <td>23.58</td>\n",
       "      <td>117.01</td>\n",
       "    </tr>\n",
       "    <tr>\n",
       "      <th>25</th>\n",
       "      <td>26</td>\n",
       "      <td>Sehwag, V</td>\n",
       "      <td>India</td>\n",
       "      <td>251</td>\n",
       "      <td>245</td>\n",
       "      <td>9</td>\n",
       "      <td>8273</td>\n",
       "      <td>219</td>\n",
       "      <td>15</td>\n",
       "      <td>38</td>\n",
       "      <td>35.06</td>\n",
       "      <td>104.33</td>\n",
       "    </tr>\n",
       "    <tr>\n",
       "      <th>16</th>\n",
       "      <td>17</td>\n",
       "      <td>de Villiers, A B</td>\n",
       "      <td>South Africa</td>\n",
       "      <td>228</td>\n",
       "      <td>218</td>\n",
       "      <td>39</td>\n",
       "      <td>9577</td>\n",
       "      <td>176</td>\n",
       "      <td>25</td>\n",
       "      <td>53</td>\n",
       "      <td>53.50</td>\n",
       "      <td>101.10</td>\n",
       "    </tr>\n",
       "    <tr>\n",
       "      <th>15</th>\n",
       "      <td>16</td>\n",
       "      <td>Gilchrist, A C</td>\n",
       "      <td>Australia</td>\n",
       "      <td>287</td>\n",
       "      <td>279</td>\n",
       "      <td>11</td>\n",
       "      <td>9619</td>\n",
       "      <td>172</td>\n",
       "      <td>16</td>\n",
       "      <td>55</td>\n",
       "      <td>35.89</td>\n",
       "      <td>96.95</td>\n",
       "    </tr>\n",
       "    <tr>\n",
       "      <th>55</th>\n",
       "      <td>56</td>\n",
       "      <td>McCullum, B B</td>\n",
       "      <td>New Zealand</td>\n",
       "      <td>260</td>\n",
       "      <td>228</td>\n",
       "      <td>28</td>\n",
       "      <td>6083</td>\n",
       "      <td>166</td>\n",
       "      <td>5</td>\n",
       "      <td>32</td>\n",
       "      <td>30.42</td>\n",
       "      <td>96.37</td>\n",
       "    </tr>\n",
       "  </tbody>\n",
       "</table>\n",
       "</div>"
      ],
      "text/plain": [
       "    S. No.            Player       Country  Mat  Inns  NO  Runs Highest  \\\n",
       "27      28     Shahid Afridi      Pakistan  398   369  27  8064     124   \n",
       "25      26         Sehwag, V         India  251   245   9  8273     219   \n",
       "16      17  de Villiers, A B  South Africa  228   218  39  9577     176   \n",
       "15      16    Gilchrist, A C     Australia  287   279  11  9619     172   \n",
       "55      56     McCullum, B B   New Zealand  260   228  28  6083     166   \n",
       "\n",
       "    Hundreds  Fifties    Avg  StrikeRate  \n",
       "27         6       39  23.58      117.01  \n",
       "25        15       38  35.06      104.33  \n",
       "16        25       53  53.50      101.10  \n",
       "15        16       55  35.89       96.95  \n",
       "55         5       32  30.42       96.37  "
      ]
     },
     "execution_count": 31,
     "metadata": {},
     "output_type": "execute_result"
    }
   ],
   "source": [
    "#sorting the batsmen on the basis of there strikerate.\n",
    "\n",
    "Bat.sort_values(by = 'StrikeRate', ascending = [False])[:5]"
   ]
  },
  {
   "cell_type": "code",
   "execution_count": 32,
   "metadata": {},
   "outputs": [],
   "source": [
    "#giving weightage to the parameters and calculating the score\n",
    "\n",
    "a = 2\n",
    "b = 1\n",
    "c = 0.2\n",
    "d = 3\n",
    "e = 1\n",
    "\n",
    "Bat['Batsmen'] = (e*Bat.Runs + b*Bat.StrikeRate + d*Bat.Avg)/(Bat.Mat) + c*Bat.Hundreds + c*Bat.Fifties"
   ]
  },
  {
   "cell_type": "code",
   "execution_count": 33,
   "metadata": {},
   "outputs": [
    {
     "data": {
      "text/plain": [
       "Text(0, 0.5, 'Batsmen Score')"
      ]
     },
     "execution_count": 33,
     "metadata": {},
     "output_type": "execute_result"
    },
    {
     "data": {
      "image/png": "[encoded data removed]",
      "text/plain": [
       "<Figure size 720x432 with 1 Axes>"
      ]
     },
     "metadata": {
      "needs_background": "light"
     },
     "output_type": "display_data"
    }
   ],
   "source": [
    "plt.figure(figsize=(10,6))\n",
    "\n",
    "#generating sequential data and plot\n",
    "sd = Bat.sort_values('Batsmen', ascending= False)[:5]\n",
    "x1 = np.array(list(sd['Player']))\n",
    "y1 = np.array(list(sd['Batsmen']))\n",
    "sns.barplot(x1,y1, palette= \"colorblind\")\n",
    "plt.ylabel('Batsmen Score')"
   ]
  },
  {
   "cell_type": "markdown",
   "metadata": {},
   "source": [
    "So, my number 3,4 and 5 would be Sachin Tendulkar, Virat Kohli and Ricky Ponting respectively."
   ]
  },
  {
   "cell_type": "code",
   "execution_count": 34,
   "metadata": {},
   "outputs": [
    {
     "data": {
      "text/html": [
       "<div>\n",
       "<style scoped>\n",
       "    .dataframe tbody tr th:only-of-type {\n",
       "        vertical-align: middle;\n",
       "    }\n",
       "\n",
       "    .dataframe tbody tr th {\n",
       "        vertical-align: top;\n",
       "    }\n",
       "\n",
       "    .dataframe thead th {\n",
       "        text-align: right;\n",
       "    }\n",
       "</style>\n",
       "<table border=\"1\" class=\"dataframe\">\n",
       "  <thead>\n",
       "    <tr style=\"text-align: right;\">\n",
       "      <th></th>\n",
       "      <th>S. No.</th>\n",
       "      <th>Player</th>\n",
       "      <th>Country</th>\n",
       "      <th>Career</th>\n",
       "      <th>Matches</th>\n",
       "      <th>Runs</th>\n",
       "      <th>Avg</th>\n",
       "      <th>Catches</th>\n",
       "      <th>Stumpings</th>\n",
       "      <th>Total</th>\n",
       "      <th>DismissalsPerMatch</th>\n",
       "    </tr>\n",
       "  </thead>\n",
       "  <tbody>\n",
       "    <tr>\n",
       "      <th>0</th>\n",
       "      <td>1</td>\n",
       "      <td>Sangakkara, K C</td>\n",
       "      <td>Sri Lanka</td>\n",
       "      <td>2000-2015</td>\n",
       "      <td>404</td>\n",
       "      <td>14234</td>\n",
       "      <td>41.99</td>\n",
       "      <td>383</td>\n",
       "      <td>99</td>\n",
       "      <td>482</td>\n",
       "      <td>1.19</td>\n",
       "    </tr>\n",
       "    <tr>\n",
       "      <th>1</th>\n",
       "      <td>2</td>\n",
       "      <td>Gilchrist, A C</td>\n",
       "      <td>Australia</td>\n",
       "      <td>1996-2008</td>\n",
       "      <td>287</td>\n",
       "      <td>9619</td>\n",
       "      <td>35.89</td>\n",
       "      <td>417</td>\n",
       "      <td>55</td>\n",
       "      <td>472</td>\n",
       "      <td>1.64</td>\n",
       "    </tr>\n",
       "    <tr>\n",
       "      <th>2</th>\n",
       "      <td>3</td>\n",
       "      <td>Dhoni, M S*</td>\n",
       "      <td>India</td>\n",
       "      <td>2004-present</td>\n",
       "      <td>332</td>\n",
       "      <td>10173</td>\n",
       "      <td>50.11</td>\n",
       "      <td>310</td>\n",
       "      <td>115</td>\n",
       "      <td>425</td>\n",
       "      <td>1.28</td>\n",
       "    </tr>\n",
       "    <tr>\n",
       "      <th>3</th>\n",
       "      <td>4</td>\n",
       "      <td>Boucher, M V</td>\n",
       "      <td>South Africa</td>\n",
       "      <td>1998-2011</td>\n",
       "      <td>295</td>\n",
       "      <td>4686</td>\n",
       "      <td>28.57</td>\n",
       "      <td>402</td>\n",
       "      <td>22</td>\n",
       "      <td>424</td>\n",
       "      <td>1.44</td>\n",
       "    </tr>\n",
       "    <tr>\n",
       "      <th>4</th>\n",
       "      <td>5</td>\n",
       "      <td>Moin Khan</td>\n",
       "      <td>Pakistan</td>\n",
       "      <td>1990-2004</td>\n",
       "      <td>219</td>\n",
       "      <td>3266</td>\n",
       "      <td>23.00</td>\n",
       "      <td>214</td>\n",
       "      <td>73</td>\n",
       "      <td>287</td>\n",
       "      <td>1.31</td>\n",
       "    </tr>\n",
       "  </tbody>\n",
       "</table>\n",
       "</div>"
      ],
      "text/plain": [
       "   S. No.           Player       Country        Career  Matches   Runs    Avg  \\\n",
       "0       1  Sangakkara, K C     Sri Lanka     2000-2015      404  14234  41.99   \n",
       "1       2   Gilchrist, A C     Australia     1996-2008      287   9619  35.89   \n",
       "2       3      Dhoni, M S*         India  2004-present      332  10173  50.11   \n",
       "3       4     Boucher, M V  South Africa     1998-2011      295   4686  28.57   \n",
       "4       5        Moin Khan      Pakistan     1990-2004      219   3266  23.00   \n",
       "\n",
       "   Catches  Stumpings  Total  DismissalsPerMatch  \n",
       "0      383         99    482                1.19  \n",
       "1      417         55    472                1.64  \n",
       "2      310        115    425                1.28  \n",
       "3      402         22    424                1.44  \n",
       "4      214         73    287                1.31  "
      ]
     },
     "execution_count": 34,
     "metadata": {},
     "output_type": "execute_result"
    }
   ],
   "source": [
    "#Wicketkeeper\n",
    "\n",
    "WK = pd.read_csv(\"/Applications/Dream11/Wicketkeepers.csv\")\n",
    "WK.head(5)"
   ]
  },
  {
   "cell_type": "code",
   "execution_count": 35,
   "metadata": {},
   "outputs": [],
   "source": [
    "#giving weightage to the parameters and calculating the score\n",
    "\n",
    "a = 2\n",
    "b = 1\n",
    "c = 0.05\n",
    "d = 3\n",
    "e = 0.5\n",
    "\n",
    "WK['Wicketkeeper'] = (a*WK.Avg + b*WK.Runs)/(WK.Matches) + d*WK.DismissalsPerMatch + b*WK.Stumpings + e*WK.Catches"
   ]
  },
  {
   "cell_type": "code",
   "execution_count": 36,
   "metadata": {},
   "outputs": [
    {
     "data": {
      "text/plain": [
       "Text(0, 0.5, 'Wicketkeeper Score')"
      ]
     },
     "execution_count": 36,
     "metadata": {},
     "output_type": "execute_result"
    },
    {
     "data": {
      "image/png": "[encoded data removed]",
      "text/plain": [
       "<Figure size 720x432 with 1 Axes>"
      ]
     },
     "metadata": {
      "needs_background": "light"
     },
     "output_type": "display_data"
    }
   ],
   "source": [
    "plt.figure(figsize=(10,6))\n",
    "\n",
    "#generating sequential data and plot\n",
    "sd = WK.sort_values('Wicketkeeper', ascending= False)[:5]\n",
    "x1 = np.array(list(sd['Player']))\n",
    "y1 = np.array(list(sd['Wicketkeeper']))\n",
    "sns.barplot(x1,y1, palette= \"colorblind\")\n",
    "plt.ylabel('Wicketkeeper Score')"
   ]
  },
  {
   "cell_type": "markdown",
   "metadata": {},
   "source": [
    "So, Kumar Sangakara it is, the man who is going to be behind the stumps."
   ]
  },
  {
   "cell_type": "code",
   "execution_count": 37,
   "metadata": {},
   "outputs": [
    {
     "data": {
      "text/html": [
       "<div>\n",
       "<style scoped>\n",
       "    .dataframe tbody tr th:only-of-type {\n",
       "        vertical-align: middle;\n",
       "    }\n",
       "\n",
       "    .dataframe tbody tr th {\n",
       "        vertical-align: top;\n",
       "    }\n",
       "\n",
       "    .dataframe thead th {\n",
       "        text-align: right;\n",
       "    }\n",
       "</style>\n",
       "<table border=\"1\" class=\"dataframe\">\n",
       "  <thead>\n",
       "    <tr style=\"text-align: right;\">\n",
       "      <th></th>\n",
       "      <th>S. No.</th>\n",
       "      <th>Players</th>\n",
       "      <th>Country</th>\n",
       "      <th>Matches</th>\n",
       "      <th>Inns</th>\n",
       "      <th>Runs</th>\n",
       "      <th>Avg</th>\n",
       "      <th>Overs</th>\n",
       "      <th>Wkts</th>\n",
       "      <th>BowlingAvg</th>\n",
       "      <th>Catches</th>\n",
       "    </tr>\n",
       "  </thead>\n",
       "  <tbody>\n",
       "    <tr>\n",
       "      <th>0</th>\n",
       "      <td>1</td>\n",
       "      <td>Kallis, J H</td>\n",
       "      <td>South Africa</td>\n",
       "      <td>328</td>\n",
       "      <td>314</td>\n",
       "      <td>11579</td>\n",
       "      <td>44.36</td>\n",
       "      <td>1791.4</td>\n",
       "      <td>273</td>\n",
       "      <td>31.79</td>\n",
       "      <td>131</td>\n",
       "    </tr>\n",
       "    <tr>\n",
       "      <th>1</th>\n",
       "      <td>2</td>\n",
       "      <td>Richards, I V A</td>\n",
       "      <td>West Indies</td>\n",
       "      <td>187</td>\n",
       "      <td>167</td>\n",
       "      <td>6721</td>\n",
       "      <td>47.00</td>\n",
       "      <td>940.0</td>\n",
       "      <td>118</td>\n",
       "      <td>35.83</td>\n",
       "      <td>100</td>\n",
       "    </tr>\n",
       "    <tr>\n",
       "      <th>2</th>\n",
       "      <td>3</td>\n",
       "      <td>Watson, S R</td>\n",
       "      <td>Australia</td>\n",
       "      <td>190</td>\n",
       "      <td>169</td>\n",
       "      <td>5757</td>\n",
       "      <td>40.54</td>\n",
       "      <td>1077.4</td>\n",
       "      <td>168</td>\n",
       "      <td>31.80</td>\n",
       "      <td>65</td>\n",
       "    </tr>\n",
       "    <tr>\n",
       "      <th>3</th>\n",
       "      <td>4</td>\n",
       "      <td>Mathews, A D*</td>\n",
       "      <td>Sri Lanka</td>\n",
       "      <td>203</td>\n",
       "      <td>173</td>\n",
       "      <td>5380</td>\n",
       "      <td>42.36</td>\n",
       "      <td>845.1</td>\n",
       "      <td>114</td>\n",
       "      <td>34.22</td>\n",
       "      <td>50</td>\n",
       "    </tr>\n",
       "    <tr>\n",
       "      <th>4</th>\n",
       "      <td>5</td>\n",
       "      <td>Clarke, M J</td>\n",
       "      <td>Australia</td>\n",
       "      <td>245</td>\n",
       "      <td>223</td>\n",
       "      <td>7981</td>\n",
       "      <td>44.59</td>\n",
       "      <td>430.5</td>\n",
       "      <td>57</td>\n",
       "      <td>37.65</td>\n",
       "      <td>106</td>\n",
       "    </tr>\n",
       "  </tbody>\n",
       "</table>\n",
       "</div>"
      ],
      "text/plain": [
       "   S. No.          Players       Country  Matches  Inns   Runs    Avg   Overs  \\\n",
       "0       1      Kallis, J H  South Africa      328   314  11579  44.36  1791.4   \n",
       "1       2  Richards, I V A   West Indies      187   167   6721  47.00   940.0   \n",
       "2       3      Watson, S R     Australia      190   169   5757  40.54  1077.4   \n",
       "3       4    Mathews, A D*     Sri Lanka      203   173   5380  42.36   845.1   \n",
       "4       5      Clarke, M J     Australia      245   223   7981  44.59   430.5   \n",
       "\n",
       "   Wkts  BowlingAvg  Catches  \n",
       "0   273       31.79      131  \n",
       "1   118       35.83      100  \n",
       "2   168       31.80       65  \n",
       "3   114       34.22       50  \n",
       "4    57       37.65      106  "
      ]
     },
     "execution_count": 37,
     "metadata": {},
     "output_type": "execute_result"
    }
   ],
   "source": [
    "#All-Rounder\n",
    "\n",
    "AR = pd.read_csv(\"/Applications/Dream11/AllRounders.csv\")\n",
    "AR.head(5)"
   ]
  },
  {
   "cell_type": "code",
   "execution_count": 39,
   "metadata": {},
   "outputs": [],
   "source": [
    "#giving weightage to the parameters and calculating the score\n",
    "\n",
    "a = 2\n",
    "b = 1\n",
    "c = 0.05\n",
    "d = 3\n",
    "e = 0.5\n",
    "\n",
    "AR['AllRounder'] = (a*AR.Avg + c*AR.Wkts + b*AR.BowlingAvg + AR.Catches + c*AR.Runs)/(AR.Inns)"
   ]
  },
  {
   "cell_type": "code",
   "execution_count": 41,
   "metadata": {},
   "outputs": [
    {
     "data": {
      "text/plain": [
       "Text(0, 0.5, 'AllRounder Score')"
      ]
     },
     "execution_count": 41,
     "metadata": {},
     "output_type": "execute_result"
    },
    {
     "data": {
      "image/png": "[encoded data removed]",
      "text/plain": [
       "<Figure size 720x432 with 1 Axes>"
      ]
     },
     "metadata": {
      "needs_background": "light"
     },
     "output_type": "display_data"
    }
   ],
   "source": [
    "plt.figure(figsize=(10,6))\n",
    "\n",
    "#generating sequential data and plot\n",
    "sd = AR.sort_values('AllRounder', ascending= False)[:5]\n",
    "x1 = np.array(list(sd['Players']))\n",
    "y1 = np.array(list(sd['AllRounder']))\n",
    "sns.barplot(x1,y1, palette= \"colorblind\")\n",
    "plt.ylabel('AllRounder Score')"
   ]
  },
  {
   "cell_type": "markdown",
   "metadata": {},
   "source": [
    "Sir Viv Richards it is!! Who else could be?!"
   ]
  },
  {
   "cell_type": "code",
   "execution_count": 42,
   "metadata": {},
   "outputs": [
    {
     "data": {
      "text/html": [
       "<div>\n",
       "<style scoped>\n",
       "    .dataframe tbody tr th:only-of-type {\n",
       "        vertical-align: middle;\n",
       "    }\n",
       "\n",
       "    .dataframe tbody tr th {\n",
       "        vertical-align: top;\n",
       "    }\n",
       "\n",
       "    .dataframe thead th {\n",
       "        text-align: right;\n",
       "    }\n",
       "</style>\n",
       "<table border=\"1\" class=\"dataframe\">\n",
       "  <thead>\n",
       "    <tr style=\"text-align: right;\">\n",
       "      <th></th>\n",
       "      <th>S. No.</th>\n",
       "      <th>Player</th>\n",
       "      <th>Country</th>\n",
       "      <th>Matches</th>\n",
       "      <th>Balls</th>\n",
       "      <th>Runs</th>\n",
       "      <th>Wkts</th>\n",
       "      <th>BBI</th>\n",
       "      <th>FourWickets</th>\n",
       "      <th>Avg</th>\n",
       "      <th>StrikeRate</th>\n",
       "      <th>Economy</th>\n",
       "      <th>Bowled</th>\n",
       "      <th>Catched</th>\n",
       "      <th>CaughtAndBowled</th>\n",
       "      <th>LBW</th>\n",
       "    </tr>\n",
       "  </thead>\n",
       "  <tbody>\n",
       "    <tr>\n",
       "      <th>0</th>\n",
       "      <td>1</td>\n",
       "      <td>Muralitharan, M</td>\n",
       "      <td>Sri Lanka/ACC Asian XI</td>\n",
       "      <td>350</td>\n",
       "      <td>18811</td>\n",
       "      <td>12326</td>\n",
       "      <td>534</td>\n",
       "      <td>07/30</td>\n",
       "      <td>25</td>\n",
       "      <td>23.08</td>\n",
       "      <td>35.23</td>\n",
       "      <td>3.93</td>\n",
       "      <td>22.8</td>\n",
       "      <td>46.1</td>\n",
       "      <td>8.2</td>\n",
       "      <td>12.2</td>\n",
       "    </tr>\n",
       "    <tr>\n",
       "      <th>1</th>\n",
       "      <td>2</td>\n",
       "      <td>Wasim Akram</td>\n",
       "      <td>Pakistan</td>\n",
       "      <td>356</td>\n",
       "      <td>18186</td>\n",
       "      <td>11812</td>\n",
       "      <td>502</td>\n",
       "      <td>05/15</td>\n",
       "      <td>23</td>\n",
       "      <td>23.53</td>\n",
       "      <td>36.23</td>\n",
       "      <td>3.90</td>\n",
       "      <td>35.1</td>\n",
       "      <td>27.5</td>\n",
       "      <td>18.5</td>\n",
       "      <td>18.3</td>\n",
       "    </tr>\n",
       "    <tr>\n",
       "      <th>2</th>\n",
       "      <td>3</td>\n",
       "      <td>Waqar Younis</td>\n",
       "      <td>Pakistan</td>\n",
       "      <td>262</td>\n",
       "      <td>12698</td>\n",
       "      <td>9919</td>\n",
       "      <td>416</td>\n",
       "      <td>07/36</td>\n",
       "      <td>27</td>\n",
       "      <td>23.84</td>\n",
       "      <td>30.52</td>\n",
       "      <td>4.69</td>\n",
       "      <td>36.3</td>\n",
       "      <td>27.2</td>\n",
       "      <td>18.8</td>\n",
       "      <td>17.5</td>\n",
       "    </tr>\n",
       "    <tr>\n",
       "      <th>3</th>\n",
       "      <td>4</td>\n",
       "      <td>Vaas, W P U J C</td>\n",
       "      <td>Sri Lanka/ACC Asian XI</td>\n",
       "      <td>322</td>\n",
       "      <td>15775</td>\n",
       "      <td>11014</td>\n",
       "      <td>400</td>\n",
       "      <td>08/19</td>\n",
       "      <td>13</td>\n",
       "      <td>27.54</td>\n",
       "      <td>39.44</td>\n",
       "      <td>4.19</td>\n",
       "      <td>22.5</td>\n",
       "      <td>42.0</td>\n",
       "      <td>17.8</td>\n",
       "      <td>17.3</td>\n",
       "    </tr>\n",
       "    <tr>\n",
       "      <th>4</th>\n",
       "      <td>5</td>\n",
       "      <td>Shahid Afridi</td>\n",
       "      <td>Pakistan/ACC Asian XI</td>\n",
       "      <td>398</td>\n",
       "      <td>17670</td>\n",
       "      <td>13632</td>\n",
       "      <td>395</td>\n",
       "      <td>07/Dec</td>\n",
       "      <td>13</td>\n",
       "      <td>34.51</td>\n",
       "      <td>44.73</td>\n",
       "      <td>4.63</td>\n",
       "      <td>26.3</td>\n",
       "      <td>38.0</td>\n",
       "      <td>10.9</td>\n",
       "      <td>18.5</td>\n",
       "    </tr>\n",
       "  </tbody>\n",
       "</table>\n",
       "</div>"
      ],
      "text/plain": [
       "   S. No.           Player                 Country  Matches  Balls   Runs  \\\n",
       "0       1  Muralitharan, M  Sri Lanka/ACC Asian XI      350  18811  12326   \n",
       "1       2      Wasim Akram                Pakistan      356  18186  11812   \n",
       "2       3     Waqar Younis                Pakistan      262  12698   9919   \n",
       "3       4  Vaas, W P U J C  Sri Lanka/ACC Asian XI      322  15775  11014   \n",
       "4       5    Shahid Afridi   Pakistan/ACC Asian XI      398  17670  13632   \n",
       "\n",
       "   Wkts     BBI  FourWickets    Avg  StrikeRate  Economy  Bowled  Catched  \\\n",
       "0   534   07/30           25  23.08       35.23     3.93    22.8     46.1   \n",
       "1   502   05/15           23  23.53       36.23     3.90    35.1     27.5   \n",
       "2   416   07/36           27  23.84       30.52     4.69    36.3     27.2   \n",
       "3   400   08/19           13  27.54       39.44     4.19    22.5     42.0   \n",
       "4   395  07/Dec           13  34.51       44.73     4.63    26.3     38.0   \n",
       "\n",
       "   CaughtAndBowled   LBW  \n",
       "0              8.2  12.2  \n",
       "1             18.5  18.3  \n",
       "2             18.8  17.5  \n",
       "3             17.8  17.3  \n",
       "4             10.9  18.5  "
      ]
     },
     "execution_count": 42,
     "metadata": {},
     "output_type": "execute_result"
    }
   ],
   "source": [
    "#Bowlers\n",
    "\n",
    "Bow = pd.read_csv(\"/Applications/Dream11/Bowlers.csv\")\n",
    "Bow.head(5)"
   ]
  },
  {
   "cell_type": "code",
   "execution_count": 43,
   "metadata": {},
   "outputs": [],
   "source": [
    "#giving weightage to the parameters and calculating the score\n",
    "\n",
    "a = 2\n",
    "b = 1\n",
    "c = 0.05\n",
    "d = 3\n",
    "e = 0.5\n",
    "\n",
    "Bow['Bowler'] = (e*Bow.Wkts + a*Bow.FourWickets + Bow.Bowled + Bow.Avg - d*Bow.Economy)/(Bow.Matches)"
   ]
  },
  {
   "cell_type": "code",
   "execution_count": 45,
   "metadata": {},
   "outputs": [
    {
     "data": {
      "text/plain": [
       "Text(0, 0.5, 'Bowler Score')"
      ]
     },
     "execution_count": 45,
     "metadata": {},
     "output_type": "execute_result"
    },
    {
     "data": {
      "image/png": "[encoded data removed]",
      "text/plain": [
       "<Figure size 720x432 with 1 Axes>"
      ]
     },
     "metadata": {
      "needs_background": "light"
     },
     "output_type": "display_data"
    }
   ],
   "source": [
    "plt.figure(figsize=(10,6))\n",
    "\n",
    "#generating sequential data and plot\n",
    "sd = Bow.sort_values('Bowler', ascending= False)[:5]\n",
    "x1 = np.array(list(sd['Player']))\n",
    "y1 = np.array(list(sd['Bowler']))\n",
    "sns.barplot(x1,y1, palette= \"colorblind\")\n",
    "plt.ylabel('Bowler Score')"
   ]
  },
  {
   "cell_type": "code",
   "execution_count": null,
   "metadata": {},
   "outputs": [],
   "source": [
    "So there we go, my all time ODI dream 11:\n",
    "    1. Rohit Sharma\n",
    "    2. Hashim Amla\n",
    "    3. Sachin Tendulkar\n",
    "    4. Virat Kohli\n",
    "    5. Ricky Ponting\n",
    "    6. Kumara Sangakara\n",
    "    7. Sir Viv Richards\n",
    "    8. Rashid Khan\n",
    "    9. Trent Boult\n",
    "    10. Mitch Starc\n",
    "    11. Denis Lille"
   ]
  }
 ],
 "metadata": {
  "kernelspec": {
   "display_name": "Python 3",
   "language": "python",
   "name": "python3"
  },
  "language_info": {
   "codemirror_mode": {
    "name": "ipython",
    "version": 3
   },
   "file_extension": ".py",
   "mimetype": "text/x-python",
   "name": "python",
   "nbconvert_exporter": "python",
   "pygments_lexer": "ipython3",
   "version": "3.7.4"
  }
 },
 "nbformat": 4,
 "nbformat_minor": 2
}
